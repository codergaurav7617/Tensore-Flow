{
 "cells": [
  {
   "cell_type": "code",
   "execution_count": 1,
   "metadata": {
    "collapsed": true
   },
   "outputs": [],
   "source": [
    "import tensorflow as tf"
   ]
  },
  {
   "cell_type": "code",
   "execution_count": 14,
   "metadata": {},
   "outputs": [
    {
     "data": {
      "text/plain": [
       "5"
      ]
     },
     "execution_count": 14,
     "metadata": {},
     "output_type": "execute_result"
    }
   ],
   "source": [
    "# how we are going to create the session object \n",
    "a=tf.constant(2)\n",
    "b=tf.constant(3)\n",
    "c=a+b\n",
    "c\n",
    "sees=tf.Session()\n",
    "sees.run(c)\n",
    "\n",
    "a1=tf.constant([[3,3]])\n",
    "b1=tf.constant([[3],[3]])\n",
    "res=tf.matmul(a1,b1)\n",
    "sees.run(res)"
   ]
  },
  {
   "cell_type": "code",
   "execution_count": 20,
   "metadata": {},
   "outputs": [
    {
     "name": "stdout",
     "output_type": "stream",
     "text": [
      "5\n"
     ]
    }
   ],
   "source": [
    "#Session\n",
    "a=tf.constant(2)\n",
    "b=tf.constant(3)\n",
    "c=a+b\n",
    "\n",
    "# not allowed because there is not default session\n",
    "\n",
    "#print(c.eval())\n",
    "\n",
    "with tf.Session() as sess:\n",
    "    print(c.eval())\n",
    "    #print(sess.run(c))"
   ]
  },
  {
   "cell_type": "code",
   "execution_count": 46,
   "metadata": {},
   "outputs": [
    {
     "data": {
      "text/plain": [
       "1235"
      ]
     },
     "execution_count": 46,
     "metadata": {},
     "output_type": "execute_result"
    }
   ],
   "source": [
    "#Variable \n",
    "var1=tf.Variable(100)\n",
    "var2=tf.Variable(3)\n",
    "sum=tf.add(var1,var2)\n",
    "sess=tf.Session()\n",
    "sess.run(tf.global_variables_initializer())\n",
    "sess.run(sum)\n",
    "\n",
    "# for assining new Values to the variable \n",
    "\n",
    "assign=var1.assign(1232)\n",
    "#assigment will work as long as  the u start to run it with the session\n",
    "sess.run(assign)\n",
    "\n",
    "sess.run(sum)"
   ]
  },
  {
   "cell_type": "code",
   "execution_count": 55,
   "metadata": {},
   "outputs": [
    {
     "data": {
      "text/plain": [
       "array([[12, 24, 36],\n",
       "       [24, 36, 48]], dtype=int32)"
      ]
     },
     "execution_count": 55,
     "metadata": {},
     "output_type": "execute_result"
    }
   ],
   "source": [
    "# placeHolder used for providing the value whenever required to compute that things \n",
    "\n",
    "x=tf.placeholder(tf.int32,shape=(2,3))\n",
    "y=x*tf.constant(12)\n",
    "sess.run(y,{x:[[1,2,3],[2,3,4]]})"
   ]
  }
 ],
 "metadata": {
  "kernelspec": {
   "display_name": "Python 3",
   "language": "python",
   "name": "python3"
  },
  "language_info": {
   "codemirror_mode": {
    "name": "ipython",
    "version": 3
   },
   "file_extension": ".py",
   "mimetype": "text/x-python",
   "name": "python",
   "nbconvert_exporter": "python",
   "pygments_lexer": "ipython3",
   "version": "3.6.3"
  }
 },
 "nbformat": 4,
 "nbformat_minor": 2
}
